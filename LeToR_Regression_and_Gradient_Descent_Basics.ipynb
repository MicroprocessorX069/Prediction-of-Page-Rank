{
  "nbformat": 4,
  "nbformat_minor": 0,
  "metadata": {
    "colab": {
      "name": "LeToR Regression and Gradient Descent Basics.ipynb",
      "version": "0.3.2",
      "provenance": [],
      "collapsed_sections": [],
      "toc_visible": true,
      "include_colab_link": true
    },
    "kernelspec": {
      "name": "python3",
      "display_name": "Python 3"
    },
    "accelerator": "TPU"
  },
  "cells": [
    {
      "cell_type": "markdown",
      "metadata": {
        "id": "view-in-github",
        "colab_type": "text"
      },
      "source": [
        "[View in Colaboratory](https://colab.research.google.com/github/MicroprocessorX069/Prediction-of-Page-Rank/blob/master/LeToR_Regression_and_Gradient_Descent_Basics.ipynb)"
      ]
    },
    {
      "metadata": {
        "id": "p9KYLPtUzGBF",
        "colab_type": "code",
        "colab": {}
      },
      "cell_type": "code",
      "source": [
        "from sklearn.cluster import KMeans\n",
        "import numpy as np\n",
        "import csv\n",
        "import math\n",
        "import matplotlib.pyplot\n",
        "from matplotlib import pyplot as plt"
      ],
      "execution_count": 0,
      "outputs": []
    },
    {
      "metadata": {
        "id": "RBwYuL7dzGBK",
        "colab_type": "code",
        "colab": {}
      },
      "cell_type": "code",
      "source": [
        "maxAcc = 0.0 #maximum Accuracy\n",
        "maxIter = 0 #maximum Iteration\n",
        "Lambda_array = [0.01,0.02,0.03,0.05,0.1] #Learning rate\n",
        "TrainingPercent = 80 \n",
        "ValidationPercent = 10\n",
        "TestPercent = 10\n",
        "numberBasisFn = [5,10,25,50]  #Number of basis function.\n",
        "PHI = []\n",
        "IsSynthetic = False"
      ],
      "execution_count": 0,
      "outputs": []
    },
    {
      "metadata": {
        "id": "Jgem3aPbzGBN",
        "colab_type": "code",
        "colab": {}
      },
      "cell_type": "code",
      "source": [
        "def GetTargetVector(filePath):\n",
        "    t = []\n",
        "    with open(filePath, 'rU') as f:\n",
        "        reader = csv.reader(f)\n",
        "        for row in reader:  \n",
        "            t.append(int(row[0]))\n",
        "    #print(\"Raw Training Generated..\")\n",
        "    return t\n",
        "\n",
        "def GenerateRawData(filePath, IsSynthetic):    \n",
        "    dataMatrix = [] \n",
        "    with open(filePath, 'rU') as fi:\n",
        "        reader = csv.reader(fi)\n",
        "        for row in reader:\n",
        "            dataRow = []\n",
        "            for column in row:\n",
        "                dataRow.append(float(column))\n",
        "            dataMatrix.append(dataRow)   \n",
        "    \n",
        "    if IsSynthetic == False :\n",
        "        dataMatrix = np.delete(dataMatrix, [5,6,7,8,9], axis=1)\n",
        "    dataMatrix = np.transpose(dataMatrix)     \n",
        "    #print (\"Data Matrix Generated..\")\n",
        "    return dataMatrix\n",
        "\n",
        "#Subsetting Training target values  acc. to training percent\n",
        "def GenerateTrainingTarget(rawTraining,TrainingPercent = 80):\n",
        "    TrainingLen = int(math.ceil(len(rawTraining)*(TrainingPercent*0.01)))\n",
        "    t           = rawTraining[:TrainingLen]\n",
        "    #print(str(TrainingPercent) + \"% Training Target Generated..\")\n",
        "    return t\n",
        "\n",
        "#Subsetting Training input features' values  acc. to training percent\n",
        "def GenerateTrainingDataMatrix(rawData, TrainingPercent = 80):\n",
        "    T_len = int(math.ceil(len(rawData[0])*0.01*TrainingPercent))\n",
        "    d2 = rawData[:,0:T_len]\n",
        "    #print(str(TrainingPercent) + \"% Training Data Generated..\")\n",
        "    return d2\n",
        "\n",
        "#Subsetting Validation input features' values  acc. to training percent\n",
        "def GenerateValData(rawData, ValPercent, TrainingCount): \n",
        "    valSize = int(math.ceil(len(rawData[0])*ValPercent*0.01))\n",
        "    V_End = TrainingCount + valSize\n",
        "    dataMatrix = rawData[:,TrainingCount+1:V_End]\n",
        "    #print (str(ValPercent) + \"% Val Data Generated..\")  \n",
        "    return dataMatrix\n",
        "\n",
        "#Subsetting Validaiton Target values  acc. to training percent  \n",
        "def GenerateValTargetVector(rawData, ValPercent, TrainingCount): \n",
        "    valSize = int(math.ceil(len(rawData)*ValPercent*0.01))\n",
        "    V_End = TrainingCount + valSize\n",
        "    t =rawData[TrainingCount+1:V_End]\n",
        "    #print (str(ValPercent) + \"% Val Target Data Generated..\")\n",
        "    return t\n",
        "\n",
        "def GenerateBigSigma(Data, MuMatrix,TrainingPercent,IsSynthetic):\n",
        "  # To calculate BigSigma as\n",
        "  #BigSigma 41 x 41\n",
        "  #Matrix of variances between input features, to calculate PhiMatrix\n",
        "    '''\n",
        "                          x(1)      x(2)      x(3) .  .  .     x(41)\n",
        "    BigSigma =   x(1)  Var(1,1)      0         0                 0\n",
        "\n",
        "                 x(2)       0      Var(2,2)    0                 0\n",
        "\n",
        "                 x(3)       0       0        Var(3,3)            0\n",
        "                  .\n",
        "                  .\n",
        "                  .\n",
        "                 x(41)                                      Var(41,41)\n",
        "      '''        \n",
        "    \n",
        "    #Initializing BigSigma matrix as zeros since we just have to populate the diagonal elements\n",
        "    \n",
        "    BigSigma    = np.zeros((len(Data),len(Data))) #shape = 41,41\n",
        "    DataT       = np.transpose(Data) #len(DataT)=69k \n",
        "    TrainingLen = math.ceil(len(DataT)*(TrainingPercent*0.01)) #math ceil return smallest integer less than X, basically converting to nearest bigger int #Len of training data set = 80% of 69k ~ 67k \n",
        "    varVect     = []\n",
        "    \n",
        "    # Calculating the variance for each input feature, based on training data. np.var return variance of an array\n",
        "    for i in range(0,len(DataT[0])):\n",
        "        vct = []\n",
        "        for j in range(0,int(TrainingLen)):\n",
        "            vct.append(Data[i][j])    \n",
        "        varVect.append(np.var(vct)) #Varianance of Data[i,;] i.e. input feature i\n",
        "    \n",
        "    #Populating BigSigma Matrix\n",
        "    for j in range(len(Data)):\n",
        "        BigSigma[j][j] = varVect[j] ## All other indices other than j,j (i.e. where i != j) would be zero since the covariance between two input features is no required.\n",
        "    if IsSynthetic == True:         # Use of isSynthetic not known yet\n",
        "        BigSigma = np.dot(3,BigSigma)\n",
        "    else:\n",
        "        BigSigma = np.dot(200,BigSigma)\n",
        "    ##print (\"BigSigma Generated..\")\n",
        "    return BigSigma\n",
        "\n",
        "def GetScalar(DataRow,MuRow, BigSigInv):  \n",
        "    #Converts the matrices' (x-Mu), BigSigmaInverse, (x-Mu) product to scalar\n",
        "    \n",
        "    #R is (x-Mu); Shape : 1 x 41\n",
        "    R = np.subtract(DataRow,MuRow)\n",
        "    #np.transpose(R) is Transpose of (x-Mu); Shape :  41 x 1\n",
        "    # Shape of BigSigInv is 41 x 41\n",
        "    # Therefore Shape of T i.e. (R x BigSigmaInverse x Inv(R)): (41) x 41) . (41 x 1)\n",
        "    #                                                          : 41 x 1 \n",
        "    T = np.dot(BigSigInv,np.transpose(R))  \n",
        "    L = np.dot(R,T) #(R . T)\n",
        "    # Therefore Shape of T i.e. (R x BigSigmaInverse x Inv(R)): (1 x 41). (41) x 41) . (41 x 1)\n",
        "    #                                                          : 1 x 1 # HenceScalaar\n",
        "    return L\n",
        "\n",
        "def GetRadialBasisOut(DataRow,MuRow, BigSigInv):  \n",
        "  #Calculation of Phi(x)\n",
        "  #Vector Phi(x) = (-0.5 . (x-Mu) . BigSigmaInverse . (x-Mu))\n",
        "   #              e\n",
        "    # math.exp is exponential function e^(x) where x is the argument of the function\n",
        "    phi_x = math.exp(-0.5*GetScalar(DataRow,MuRow,BigSigInv))\n",
        "    return phi_x\n",
        "\n",
        "def GetPhiMatrix(Data, MuMatrix, BigSigma, TrainingPercent = 80):\n",
        "    #Phi Matrix Shape:  No. of basis fns x Dataset_height i.e. 10 x 67k\n",
        "    # 10 Basis function matrix applied on 41 input feautres\n",
        "    '''\n",
        "    #Phi(x(1)(1/10)) Means Basis function of 1/10 th part of input feature 1 (We divided the input features with kmeans below into 10 clusters)\n",
        "    \n",
        "    Vector Phi(x) = (-0.5 . (x-Mu) . BigSigmaInverse . (x-Mu))\n",
        "                   e\n",
        "                   \n",
        "                   \n",
        "                        Phi1                   Phi2                     Phi3                    .  .  .     Phi10    # no of basis functions i.e. 10\n",
        "  PhiMatrix=   x(1)   Phi(x(1)(1/10))      Phi(x(1)(2/10))         Phi(x(1)(3/10))     .  .  .        Phi(x(1)(10/10))\n",
        "  \n",
        "               x(2)   Phi(x(2)(1/10))      Phi(x(2)(2/10))         Phi(x(2)(3/10))     .  .  .        Phi(x(2)(10/10))\n",
        "    \n",
        "               x(3)   Phi(x(3)(1/10))      Phi(x(3)(2/10))         Phi(x(3)(3/10))     .  .  .        Phi(x(3)(10/10))\n",
        "                .\n",
        "                .\n",
        "                .\n",
        "              x(67k)  Phi(x(67k)(1/10))    Phi(x(67k)(2/10))       Phi(x(67k)(3/10))     .  .  .      Phi(x(67k)(1/10))\n",
        "    '''        \n",
        "    DataT = np.transpose(Data)\n",
        "    TrainingLen = math.ceil(len(DataT)*(TrainingPercent*0.01))         \n",
        "    PHI = np.zeros((int(TrainingLen),len(MuMatrix))) \n",
        "    \n",
        "    # Calculating inverse of BigSigma matrix for the formula of phi\n",
        "    BigSigInv = np.linalg.inv(BigSigma)\n",
        "    for  C in range(0,len(MuMatrix)):\n",
        "        for R in range(0,int(TrainingLen)):\n",
        "            #Calculating Phi of each x1\n",
        "            PHI[R][C] = GetRadialBasisOut(DataT[R], MuMatrix[C], BigSigInv)\n",
        "    #print (\"PHI Generated..\")\n",
        "    return PHI\n",
        "\n",
        "def GetWeightsClosedForm(PHI, T, Lambda):\n",
        "   \n",
        "    #Closed form of weights: PhiInv(x) . TargetValues\n",
        "#                           [ Inverse(TransposePhi(x). Phi(x) + Lambda). TransposePhi(x) ] . Target values  # Moore Penrose Pseudo inverse\n",
        "    \n",
        "    #Lambda_I is bias\n",
        "    # Vectorizing Lambda as identity matrix of shape of phi matrix.  \n",
        "    Lambda_I = np.identity(len(PHI[0]))\n",
        "    for i in range(0,len(PHI[0])):\n",
        "        Lambda_I[i][i] = Lambda\n",
        "    PHI_T       = np.transpose(PHI) #TransposePhi(x)\n",
        "    PHI_SQR     = np.dot(PHI_T,PHI) # TransposePhi(x).Phi(x)\n",
        "    PHI_SQR_LI  = np.add(Lambda_I,PHI_SQR) # TransposePhi(x). Phi(x) + Lambda\n",
        "    PHI_SQR_INV = np.linalg.inv(PHI_SQR_LI) # Inverse(TransposePhi(x). Phi(x) + Lambda). TransposePhi(x)\n",
        "    INTER       = np.dot(PHI_SQR_INV, PHI_T) #  [ Inverse(TransposePhi(x). Phi(x) + Lambda). TransposePhi(x) ]\n",
        "    W           = np.dot(INTER, T) # [ Inverse(TransposePhi(x). Phi(x) + Lambda). TransposePhi(x) ] . Target values \n",
        "    ##print (\"Training Weights Generated..\")\n",
        "    return W\n",
        "\n",
        "#Generating Phi Matrix. Overview/Main Function\n",
        "def GetPhiMatrix(Data, MuMatrix, BigSigma, TrainingPercent = 80):\n",
        "    DataT = np.transpose(Data)\n",
        "    TrainingLen = math.ceil(len(DataT)*(TrainingPercent*0.01))         \n",
        "    PHI = np.zeros((int(TrainingLen),len(MuMatrix))) #len(muMatrix) is no. of basis functions\n",
        "    BigSigInv = np.linalg.inv(BigSigma)\n",
        "    for  C in range(0,len(MuMatrix)):\n",
        "        for R in range(0,int(TrainingLen)):\n",
        "            PHI[R][C] = GetRadialBasisOut(DataT[R], MuMatrix[C], BigSigInv)\n",
        "    #print (\"PHI Generated..\")\n",
        "    return PHI\n",
        "\n",
        "# GetValTest Gives output Values for Validation Test Data. Val_Phi is the basis funcion matrix of Validation input features. and W is the weights \n",
        "def GetValTest(VAL_PHI,W):\n",
        "    Y = np.dot(W,np.transpose(VAL_PHI))\n",
        "    ##print (\"Test Out Generated..\")\n",
        "    return Y\n",
        "\n",
        "# VAL_TEST_OUT are Output values of Validation Test data. \n",
        "# ValDataAct are the Target Values of Validation Test Data\n",
        "def GetErms(VAL_TEST_OUT,ValDataAct):\n",
        "    sum = 0.0\n",
        "    t=0\n",
        "    accuracy = 0.0\n",
        "    counter = 0\n",
        "    val = 0.0\n",
        "    # sum of sqaure mean error\n",
        "    # E= Summation( Target Values - Output Values )^2\n",
        "    for i in range (0,len(VAL_TEST_OUT)):\n",
        "        sum = sum + math.pow((ValDataAct[i] - VAL_TEST_OUT[i]),2)\n",
        "        if(int(np.around(VAL_TEST_OUT[i], 0)) == ValDataAct[i]): # np.around rounds to the nearest no. of decimals\n",
        "            counter+=1 # Counting no. of correctly predicted values in validation test data \n",
        "    accuracy = (float((counter*100))/float(len(VAL_TEST_OUT))) # Accuracy of correctly predicted values by total no of prediction.\n",
        "    ##print (\"Accuracy Generated..\")\n",
        "    ##print (\"Validation E_RMS : \" + str(math.sqrt(sum/len(VAL_TEST_OUT))))\n",
        "    return(accuracy)\n",
        "    #return (str(accuracy) + ',' +  str(math.sqrt(sum/len(VAL_TEST_OUT))))"
      ],
      "execution_count": 0,
      "outputs": []
    },
    {
      "metadata": {
        "id": "PSYYYcSQzGBQ",
        "colab_type": "text"
      },
      "cell_type": "markdown",
      "source": [
        "## Fetch and Prepare Dataset"
      ]
    },
    {
      "metadata": {
        "id": "b2zBXcejzGBS",
        "colab_type": "code",
        "colab": {
          "base_uri": "https://localhost:8080/",
          "height": 85
        },
        "outputId": "20609929-cfef-4808-a8f5-19aa186ccc38"
      },
      "cell_type": "code",
      "source": [
        "RawTarget = GetTargetVector('Querylevelnorm_t.csv') #Reads Querylevelnorm_t.csv (Target values) as list. \n",
        "RawData   = GenerateRawData('Querylevelnorm_X.csv',IsSynthetic) #Reads Querylevelnorm_X.csv (Input feature values) as list. \n"
      ],
      "execution_count": 7,
      "outputs": [
        {
          "output_type": "stream",
          "text": [
            "/usr/local/lib/python3.6/dist-packages/ipykernel_launcher.py:3: DeprecationWarning: 'U' mode is deprecated\n",
            "  This is separate from the ipykernel package so we can avoid doing imports until\n",
            "/usr/local/lib/python3.6/dist-packages/ipykernel_launcher.py:12: DeprecationWarning: 'U' mode is deprecated\n",
            "  if sys.path[0] == '':\n"
          ],
          "name": "stderr"
        }
      ]
    },
    {
      "metadata": {
        "id": "G-QnvKlvGnag",
        "colab_type": "code",
        "colab": {
          "base_uri": "https://localhost:8080/",
          "height": 34
        },
        "outputId": "2b30fb81-a853-4c63-e98f-e8d9ba60b8ba"
      },
      "cell_type": "code",
      "source": [
        "RawData.shape"
      ],
      "execution_count": 8,
      "outputs": [
        {
          "output_type": "execute_result",
          "data": {
            "text/plain": [
              "(41, 69623)"
            ]
          },
          "metadata": {
            "tags": []
          },
          "execution_count": 8
        }
      ]
    },
    {
      "metadata": {
        "id": "u-fBm9cHzGBZ",
        "colab_type": "text"
      },
      "cell_type": "markdown",
      "source": [
        "## Prepare Training, Validation and Test Data"
      ]
    },
    {
      "metadata": {
        "id": "1O9Q_XrMzGBa",
        "colab_type": "code",
        "colab": {
          "base_uri": "https://localhost:8080/",
          "height": 119
        },
        "outputId": "5758a54f-b216-4ea1-9bed-b6fb80b3ca12"
      },
      "cell_type": "code",
      "source": [
        "#Training data is strictly used for training the model\n",
        "TrainingTarget = np.array(GenerateTrainingTarget(RawTarget,TrainingPercent)) #Training Target data #GenerateTrainingTarget is function to subset RawTarget data according to TrainingPercent\n",
        "TrainingData   = GenerateTrainingDataMatrix(RawData,TrainingPercent) #Training Input features\n",
        "print(TrainingTarget.shape)\n",
        "print(TrainingData.shape)\n",
        "\n",
        "#Validation is held out from the training dataset itself for unbiased evaluation of model trained on training data.\n",
        "ValDataAct = np.array(GenerateValTargetVector(RawTarget,ValidationPercent, (len(TrainingTarget)))) #Validation Target data\n",
        "ValData    = GenerateValData(RawData,ValidationPercent, (len(TrainingTarget))) # Validation Input features\n",
        "print(ValDataAct.shape)\n",
        "print(ValData.shape)\n",
        "\n",
        "#Test data is new data for evaluation of final model\n",
        "TestDataAct = np.array(GenerateValTargetVector(RawTarget,TestPercent, (len(TrainingTarget)+len(ValDataAct)))) #Testing Target values\n",
        "TestData = GenerateValData(RawData,TestPercent, (len(TrainingTarget)+len(ValDataAct))) #Testing input features\n",
        "print(TestDataAct.shape)\n",
        "print(TestData.shape)"
      ],
      "execution_count": 9,
      "outputs": [
        {
          "output_type": "stream",
          "text": [
            "(55699,)\n",
            "(41, 55699)\n",
            "(6962,)\n",
            "(41, 6962)\n",
            "(6961,)\n",
            "(41, 6961)\n"
          ],
          "name": "stdout"
        }
      ]
    },
    {
      "metadata": {
        "id": "2wfNWd4yzGB6",
        "colab_type": "text"
      },
      "cell_type": "markdown",
      "source": [
        "## Closed Form Solution [Finding Weights using Moore- Penrose pseudo- Inverse Matrix]"
      ]
    },
    {
      "metadata": {
        "id": "sNiTSV5LzGCE",
        "colab_type": "text"
      },
      "cell_type": "markdown",
      "source": [
        "## Finding Erms on training, validation and test set "
      ]
    },
    {
      "metadata": {
        "id": "kwtijNoZzGCN",
        "colab_type": "code",
        "colab": {
          "base_uri": "https://localhost:8080/",
          "height": 221
        },
        "outputId": "e6b72f80-2e4d-4403-9e39-2d9e2c3284e2"
      },
      "cell_type": "code",
      "source": [
        "print ('UBITname      = vineetsu')\n",
        "print ('Person Number = 50291159')\n",
        "print ('----------------------------------------------------')\n",
        "print (\"------------------LeToR Data------------------------\")\n",
        "print ('----------------------------------------------------')\n",
        "print (\"-------Closed Form with Radial Basis Function-------\")\n",
        "print ('----------------------------------------------------')\n",
        "print (\"M = 10 \\nLambda = 0.9\")\n",
        "print (\"E_rms Training   = \" + str(float(TrainingAccuracy.split(',')[1])))\n",
        "print (\"E_rms Validation = \" + str(float(ValidationAccuracy.split(',')[1])))\n",
        "print (\"E_rms Testing    = \" + str(float(TestAccuracy.split(',')[1])))"
      ],
      "execution_count": 13,
      "outputs": [
        {
          "output_type": "stream",
          "text": [
            "UBITname      = vineetsu\n",
            "Person Number = 50291159\n",
            "----------------------------------------------------\n",
            "------------------LeToR Data------------------------\n",
            "----------------------------------------------------\n",
            "-------Closed Form with Radial Basis Function-------\n",
            "----------------------------------------------------\n",
            "M = 10 \n",
            "Lambda = 0.9\n",
            "E_rms Training   = 0.5494694067137488\n",
            "E_rms Validation = 0.5384281741389714\n",
            "E_rms Testing    = 0.6279788453854207\n"
          ],
          "name": "stdout"
        }
      ]
    },
    {
      "metadata": {
        "id": "2tr41DqHXa9u",
        "colab_type": "code",
        "colab": {
          "base_uri": "https://localhost:8080/",
          "height": 687
        },
        "outputId": "2273402e-b5e7-441e-ee50-9f4fbda53f0b"
      },
      "cell_type": "code",
      "source": [
        "import numpy as np\n",
        "import time\n",
        "start=time.time()\n",
        "TestAcc=np.zeros((len(Lambda_array)+1,len(numberBasisFn)+1))\n",
        "d,e=0,0\n",
        "for C_Lambda in Lambda_array:\n",
        "  e=0\n",
        "  for M in numberBasisFn:\n",
        "    ErmsArr = [] #ERMS error for each x(i) in validation \n",
        "    AccuracyArr = [] \n",
        "\n",
        "    #Dividing the data of 69K into 10 clusters\n",
        "    kmeans = KMeans(n_clusters=M, random_state=0).fit(np.transpose(TrainingData))\n",
        "    Mu = kmeans.cluster_centers_ #Creating centres for each of FEATURES . Feature one would have 10 clusters of 69k data values divided into it and so on.\n",
        "\n",
        "    BigSigma     = GenerateBigSigma(RawData, Mu, TrainingPercent,IsSynthetic) # generating variance for each input feature\n",
        "    TRAINING_PHI = GetPhiMatrix(RawData, Mu, BigSigma, TrainingPercent)\n",
        "\n",
        "    # Closed form of weights: PhiInv(x) . TargetValues\n",
        "    #                        [ Inverse(TransposePhi(x). Phi(x)+ Lambda). TransposePhi(x) ] . Target values  # Moore Penrose Pseudo inverse\n",
        "    # Shape of Phi(x) : 58k x 10\n",
        "    # Shape of TransposePhi(x) : (10 x 58k)\n",
        "    # Shape of Lambda(vector) : 10 x 10\n",
        "    # Shape of Inverse(TransposePhi(x). Phi(x)) : 10 x 10\n",
        "    # Shape of Inverse(TransposePhi(x). Phi(x)). TransposePhi(x) : (10 x 10) . (10 x 58k)\n",
        "    #                                                              (10 x 58 k)                      \n",
        "    # Shape of Target Values:(58k x 10)\n",
        "    # Therefore  Shape of Weights : 10 x 10\n",
        "    W            = GetWeightsClosedForm(TRAINING_PHI,TrainingTarget,(C_Lambda)) \n",
        "    TEST_PHI     = GetPhiMatrix(TestData, Mu, BigSigma, 100) \n",
        "    VAL_PHI      = GetPhiMatrix(ValData, Mu, BigSigma, 100)\n",
        "\n",
        "    #TR_TEST_OUT, VAL_TEST_OUT, TEST_OUT  are the training, validation and test outputs generated for their respective Input features.\n",
        "    # Generating output = W x Input features\n",
        "    #                     W x Phi(x)    W is generated while Training data.\n",
        "    TR_TEST_OUT  = GetValTest(TRAINING_PHI,W)\n",
        "    VAL_TEST_OUT = GetValTest(VAL_PHI,W)\n",
        "    TEST_OUT     = GetValTest(TEST_PHI,W)\n",
        "\n",
        "    #Root mean square method of accuracy used (Erms) \n",
        "    #E= Summation( Target Values - Output Values )^2\n",
        "    TrainingAccuracy   = str(GetErms(TR_TEST_OUT,TrainingTarget)) # Training Accuracy\n",
        "    ValidationAccuracy = str(GetErms(VAL_TEST_OUT,ValDataAct)) # Validation Accuracy\n",
        "    TestAccuracy       = (GetErms(TEST_OUT,TestDataAct)) #Testing Accuracy\n",
        "    print(d,e,TestAccuracy)\n",
        "    TestAcc[d,e]=TestAccuracy\n",
        "    e=e+1\n",
        "  d=d+1\n",
        "\n",
        "import matplotlib.pyplot as plt\n",
        "plt.plot(TestAcc[0])\n",
        "plt.ylabel('Hell')\n",
        "plt.show()\n",
        "end=time.time()\n",
        "time_taken=end-start"
      ],
      "execution_count": 11,
      "outputs": [
        {
          "output_type": "stream",
          "text": [
            "0 0 70.11923574199109\n",
            "0 1 69.93248096537853\n",
            "0 2 68.72575779342048\n",
            "0 3 69.25729061916391\n",
            "1 0 70.11923574199109\n",
            "1 1 69.88938370923718\n",
            "1 2 68.84068380979744\n",
            "1 3 69.30038787530528\n",
            "2 0 70.11923574199109\n",
            "2 1 69.87501795719005\n",
            "2 2 68.85504956184457\n",
            "2 3 69.28602212325815\n",
            "3 0 70.11923574199109\n",
            "3 1 69.8319207010487\n",
            "3 2 68.8837810659388\n",
            "3 3 69.22855911506967\n",
            "4 0 70.11923574199109\n",
            "4 1 69.93248096537853\n",
            "4 2 69.07053584255135\n",
            "4 3 69.25729061916391\n"
          ],
          "name": "stdout"
        },
        {
          "output_type": "display_data",
          "data": {
            "image/png": "[encoded data removed]",
            "text/plain": [
              "<matplotlib.figure.Figure at 0x7f9d0b8ea240>"
            ]
          },
          "metadata": {
            "tags": []
          }
        }
      ]
    },
    {
      "metadata": {
        "id": "mzqjG_WAfZ1U",
        "colab_type": "code",
        "colab": {
          "base_uri": "https://localhost:8080/",
          "height": 364
        },
        "outputId": "a58bacfc-1152-4a90-e79e-31703236a4b7"
      },
      "cell_type": "code",
      "source": [
        "plt.plot(TestAcc[:,3])"
      ],
      "execution_count": 35,
      "outputs": [
        {
          "output_type": "execute_result",
          "data": {
            "text/plain": [
              "[<matplotlib.lines.Line2D at 0x7f9d08a6abe0>]"
            ]
          },
          "metadata": {
            "tags": []
          },
          "execution_count": 35
        },
        {
          "output_type": "display_data",
          "data": {
            "image/png": "[encoded data removed]",
            "text/plain": [
              "<matplotlib.figure.Figure at 0x7f9d08acd5f8>"
            ]
          },
          "metadata": {
            "tags": []
          }
        }
      ]
    },
    {
      "metadata": {
        "id": "VbfTLHKCcNrk",
        "colab_type": "code",
        "colab": {
          "base_uri": "https://localhost:8080/",
          "height": 34
        },
        "outputId": "be31679c-e5de-49c9-9d09-7332af7158ec"
      },
      "cell_type": "code",
      "source": [
        "TestAcc.shape\n"
      ],
      "execution_count": 16,
      "outputs": [
        {
          "output_type": "execute_result",
          "data": {
            "text/plain": [
              "(6, 3)"
            ]
          },
          "metadata": {
            "tags": []
          },
          "execution_count": 16
        }
      ]
    },
    {
      "metadata": {
        "id": "eTFHWJPcavzx",
        "colab_type": "code",
        "colab": {
          "base_uri": "https://localhost:8080/",
          "height": 347
        },
        "outputId": "01b5c459-3106-4c80-90ab-a271ed926752"
      },
      "cell_type": "code",
      "source": [
        "import matplotlib.pyplot as plt\n",
        "plt.plot(TestAcc[3])\n",
        "plt.ylabel('Hell')\n",
        "plt.show()"
      ],
      "execution_count": 35,
      "outputs": [
        {
          "output_type": "display_data",
          "data": {
            "image/png": "[encoded data removed]",
            "text/plain": [
              "<matplotlib.figure.Figure at 0x7fba9ba1fcc0>"
            ]
          },
          "metadata": {
            "tags": []
          }
        }
      ]
    },
    {
      "metadata": {
        "id": "Qj77c1pdQUC7",
        "colab_type": "code",
        "colab": {
          "base_uri": "https://localhost:8080/",
          "height": 51
        },
        "outputId": "a0b2ce52-6b5f-472a-e47c-aa2150c1c584"
      },
      "cell_type": "code",
      "source": [
        "W\n",
        "#np.dot(220, W)"
      ],
      "execution_count": 15,
      "outputs": [
        {
          "output_type": "execute_result",
          "data": {
            "text/plain": [
              "array([-8.75436103,  2.00457373, -0.459161  , -4.10971613,  0.68071942,\n",
              "        1.64717812,  0.78392423,  5.58744107,  2.68438131,  0.54812689])"
            ]
          },
          "metadata": {
            "tags": []
          },
          "execution_count": 15
        }
      ]
    },
    {
      "metadata": {
        "id": "94PTuQ82QlA8",
        "colab_type": "text"
      },
      "cell_type": "markdown",
      "source": [
        ""
      ]
    },
    {
      "metadata": {
        "id": "WWN09wsKzGCS",
        "colab_type": "text"
      },
      "cell_type": "markdown",
      "source": [
        "## Gradient Descent solution for Linear Regression"
      ]
    },
    {
      "metadata": {
        "id": "-5EJZna-zGCW",
        "colab_type": "code",
        "colab": {}
      },
      "cell_type": "code",
      "source": [
        "#Stochastic Gradient Decent.\n",
        "# Creating parts of the dataset and training separartely.\n",
        "W_Now        = np.dot(220, W) # why 220? \n",
        "La           = 2 \n",
        "learningRate = 0.01 #learning rate is Size of Steps taken to reach to the minimum of error. Bigger the step, more chances of missing the minimum.\n",
        "L_Erms_Val   = [] \n",
        "L_Erms_TR    = []\n",
        "L_Erms_Test  = []\n",
        "W_Mat        = []\n",
        "\n",
        "#\n",
        "for i in range(0,400):\n",
        "    \n",
        "    #print ('---------Iteration: ' + str(i) + '--------------')\n",
        "    Delta_E_D     = -np.dot((TrainingTarget[i] - np.dot(np.transpose(W_Now),TRAINING_PHI[i])),TRAINING_PHI[i])\n",
        "    La_Delta_E_W  = np.dot(La,W_Now)\n",
        "    Delta_E       = np.add(Delta_E_D,La_Delta_E_W)    \n",
        "    Delta_W       = -np.dot(learningRate,Delta_E)\n",
        "    W_T_Next      = W_Now + Delta_W\n",
        "    W_Now         = W_T_Next\n",
        "    \n",
        "    #-----------------TrainingData Accuracy---------------------#\n",
        "    TR_TEST_OUT   = GetValTest(TRAINING_PHI,W_T_Next) \n",
        "    Erms_TR       = GetErms(TR_TEST_OUT,TrainingTarget)\n",
        "    L_Erms_TR.append(float(Erms_TR.split(',')[1]))\n",
        "    \n",
        "    #-----------------ValidationData Accuracy---------------------#\n",
        "    VAL_TEST_OUT  = GetValTest(VAL_PHI,W_T_Next) \n",
        "    Erms_Val      = GetErms(VAL_TEST_OUT,ValDataAct)\n",
        "    L_Erms_Val.append(float(Erms_Val.split(',')[1]))\n",
        "    \n",
        "    #-----------------TestingData Accuracy---------------------#\n",
        "    TEST_OUT      = GetValTest(TEST_PHI,W_T_Next) \n",
        "    Erms_Test = GetErms(TEST_OUT,TestDataAct)\n",
        "    L_Erms_Test.append(float(Erms_Test.split(',')[1]))"
      ],
      "execution_count": 0,
      "outputs": []
    },
    {
      "metadata": {
        "id": "qitM4NWVzGCZ",
        "colab_type": "code",
        "colab": {
          "base_uri": "https://localhost:8080/",
          "height": 136
        },
        "outputId": "082ccf24-cacb-438f-c230-fd14b06c3a08"
      },
      "cell_type": "code",
      "source": [
        "print ('----------Gradient Descent Solution--------------------')\n",
        "print (\"M = 15 \\nLambda  = 0.0001\\neta=0.01\")\n",
        "print (\"E_rms Training   = \" + str(np.around(min(L_Erms_TR),5)))\n",
        "print (\"E_rms Validation = \" + str(np.around(min(L_Erms_Val),5)))\n",
        "print (\"E_rms Testing    = \" + str(np.around(min(L_Erms_Test),5)))"
      ],
      "execution_count": 13,
      "outputs": [
        {
          "output_type": "stream",
          "text": [
            "----------Gradient Descent Solution--------------------\n",
            "M = 15 \n",
            "Lambda  = 0.0001\n",
            "eta=0.01\n",
            "E_rms Training   = 0.54964\n",
            "E_rms Validation = 0.53846\n",
            "E_rms Testing    = 0.62372\n"
          ],
          "name": "stdout"
        }
      ]
    },
    {
      "metadata": {
        "id": "r6FPb-LIzGCc",
        "colab_type": "code",
        "colab": {}
      },
      "cell_type": "code",
      "source": [
        ""
      ],
      "execution_count": 0,
      "outputs": []
    }
  ]
}