{
  "nbformat": 4,
  "nbformat_minor": 0,
  "metadata": {
    "colab": {
      "name": "LeToR Regression and Gradient Descent Basics.ipynb",
      "version": "0.3.2",
      "provenance": [],
      "collapsed_sections": [],
      "toc_visible": true,
      "include_colab_link": true
    },
    "kernelspec": {
      "name": "python3",
      "display_name": "Python 3"
    }
  },
  "cells": [
    {
      "cell_type": "markdown",
      "metadata": {
        "id": "view-in-github",
        "colab_type": "text"
      },
      "source": [
        "[View in Colaboratory](https://colab.research.google.com/github/MicroprocessorX069/Prediction-of-Page-Rank/blob/master/LeToR_Regression_and_Gradient_Descent_Basics.ipynb)"
      ]
    },
    {
      "metadata": {
        "id": "p9KYLPtUzGBF",
        "colab_type": "code",
        "colab": {}
      },
      "cell_type": "code",
      "source": [
        "from sklearn.cluster import KMeans\n",
        "import numpy as np\n",
        "import csv\n",
        "import math\n",
        "import matplotlib.pyplot\n",
        "from matplotlib import pyplot as plt"
      ],
      "execution_count": 0,
      "outputs": []
    },
    {
      "metadata": {
        "id": "RBwYuL7dzGBK",
        "colab_type": "code",
        "colab": {}
      },
      "cell_type": "code",
      "source": [
        "maxAcc = 0.0 #maximum Accuracy\n",
        "maxIter = 0 #maximum Iteration\n",
        "Lambda_array = [0,0.01,0.02,0.03,0.05,0.1,1.0,5.0,1000.0,10000000000.0] #Regularizer\n",
        "#Lambda_array = [0,0.01,0.02] #Regularizer\n",
        "TrainingPercent = 80 \n",
        "ValidationPercent = 10\n",
        "TestPercent = 10\n",
        "numberBasisFn = [1,5,10,25,50]  #Number of basis function.\n",
        "#numberBasisFn = [1,5]\n",
        "PHI = []\n",
        "IsSynthetic = False"
      ],
      "execution_count": 0,
      "outputs": []
    },
    {
      "metadata": {
        "id": "Jgem3aPbzGBN",
        "colab_type": "code",
        "colab": {}
      },
      "cell_type": "code",
      "source": [
        "def GetTargetVector(filePath):\n",
        "    t = []\n",
        "    with open(filePath, 'rU') as f:\n",
        "        reader = csv.reader(f)\n",
        "        for row in reader:  \n",
        "            t.append(int(row[0]))\n",
        "    #print(\"Raw Training Generated..\")\n",
        "    return t\n",
        "\n",
        "def GenerateRawData(filePath, IsSynthetic):    \n",
        "    dataMatrix = [] \n",
        "    with open(filePath, 'rU') as fi:\n",
        "        reader = csv.reader(fi)\n",
        "        for row in reader:\n",
        "            dataRow = []\n",
        "            for column in row:\n",
        "                dataRow.append(float(column))\n",
        "            dataMatrix.append(dataRow)   \n",
        "    \n",
        "    if IsSynthetic == False :\n",
        "        dataMatrix = np.delete(dataMatrix, [5,6,7,8,9], axis=1)\n",
        "    dataMatrix = np.transpose(dataMatrix)     \n",
        "    #print (\"Data Matrix Generated..\")\n",
        "    return dataMatrix\n",
        "\n",
        "#Subsetting Training target values  acc. to training percent\n",
        "def GenerateTrainingTarget(rawTraining,TrainingPercent = 80):\n",
        "    TrainingLen = int(math.ceil(len(rawTraining)*(TrainingPercent*0.01)))\n",
        "    t           = rawTraining[:TrainingLen]\n",
        "    #print(str(TrainingPercent) + \"% Training Target Generated..\")\n",
        "    return t\n",
        "\n",
        "#Subsetting Training input features' values  acc. to training percent\n",
        "def GenerateTrainingDataMatrix(rawData, TrainingPercent = 80):\n",
        "    T_len = int(math.ceil(len(rawData[0])*0.01*TrainingPercent))\n",
        "    d2 = rawData[:,0:T_len]\n",
        "    #print(str(TrainingPercent) + \"% Training Data Generated..\")\n",
        "    return d2\n",
        "\n",
        "#Subsetting Validation input features' values  acc. to training percent\n",
        "def GenerateValData(rawData, ValPercent, TrainingCount): \n",
        "    valSize = int(math.ceil(len(rawData[0])*ValPercent*0.01))\n",
        "    V_End = TrainingCount + valSize\n",
        "    dataMatrix = rawData[:,TrainingCount+1:V_End]\n",
        "    #print (str(ValPercent) + \"% Val Data Generated..\")  \n",
        "    return dataMatrix\n",
        "\n",
        "#Subsetting Validaiton Target values  acc. to training percent  \n",
        "def GenerateValTargetVector(rawData, ValPercent, TrainingCount): \n",
        "    valSize = int(math.ceil(len(rawData)*ValPercent*0.01))\n",
        "    V_End = TrainingCount + valSize\n",
        "    t =rawData[TrainingCount+1:V_End]\n",
        "    #print (str(ValPercent) + \"% Val Target Data Generated..\")\n",
        "    return t\n",
        "\n",
        "def GenerateBigSigma(Data, MuMatrix,TrainingPercent,IsSynthetic):\n",
        "  # To calculate BigSigma as\n",
        "  #BigSigma 41 x 41\n",
        "  #Matrix of variances between input features, to calculate PhiMatrix\n",
        "    '''\n",
        "                          x(1)      x(2)      x(3) .  .  .     x(41)\n",
        "    BigSigma =   x(1)  Var(1,1)      0         0                 0\n",
        "\n",
        "                 x(2)       0      Var(2,2)    0                 0\n",
        "\n",
        "                 x(3)       0       0        Var(3,3)            0\n",
        "                  .\n",
        "                  .\n",
        "                  .\n",
        "                 x(41)                                      Var(41,41)\n",
        "      '''        \n",
        "    \n",
        "    #Initializing BigSigma matrix as zeros since we just have to populate the diagonal elements\n",
        "    \n",
        "    BigSigma    = np.zeros((len(Data),len(Data))) #shape = 41,41\n",
        "    DataT       = np.transpose(Data) #len(DataT)=69k \n",
        "    TrainingLen = math.ceil(len(DataT)*(TrainingPercent*0.01)) #math ceil return smallest integer less than X, basically converting to nearest bigger int #Len of training data set = 80% of 69k ~ 67k \n",
        "    varVect     = []\n",
        "    \n",
        "    # Calculating the variance for each input feature, based on training data. np.var return variance of an array\n",
        "    for i in range(0,len(DataT[0])):\n",
        "        vct = []\n",
        "        for j in range(0,int(TrainingLen)):\n",
        "            vct.append(Data[i][j])    \n",
        "        varVect.append(np.var(vct)) #Varianance of Data[i,;] i.e. input feature i\n",
        "    \n",
        "    #Populating BigSigma Matrix\n",
        "    for j in range(len(Data)):\n",
        "        BigSigma[j][j] = varVect[j] ## All other indices other than j,j (i.e. where i != j) would be zero since the covariance between two input features is no required.\n",
        "    if IsSynthetic == True:         # Use of isSynthetic not known yet\n",
        "        BigSigma = np.dot(3,BigSigma)\n",
        "    else:\n",
        "        BigSigma = np.dot(200,BigSigma)\n",
        "    ##print (\"BigSigma Generated..\")\n",
        "    return BigSigma\n",
        "\n",
        "def GetScalar(DataRow,MuRow, BigSigInv):  \n",
        "    #Converts the matrices' (x-Mu), BigSigmaInverse, (x-Mu) product to scalar\n",
        "    \n",
        "    #R is (x-Mu); Shape : 1 x 41\n",
        "    R = np.subtract(DataRow,MuRow)\n",
        "    #np.transpose(R) is Transpose of (x-Mu); Shape :  41 x 1\n",
        "    # Shape of BigSigInv is 41 x 41\n",
        "    # Therefore Shape of T i.e. (R x BigSigmaInverse x Inv(R)): (41) x 41) . (41 x 1)\n",
        "    #                                                          : 41 x 1 \n",
        "    T = np.dot(BigSigInv,np.transpose(R))  \n",
        "    L = np.dot(R,T) #(R . T)\n",
        "    # Therefore Shape of T i.e. (R x BigSigmaInverse x Inv(R)): (1 x 41). (41) x 41) . (41 x 1)\n",
        "    #                                                          : 1 x 1 # HenceScalaar\n",
        "    return L\n",
        "\n",
        "def GetRadialBasisOut(DataRow,MuRow, BigSigInv):  \n",
        "  #Calculation of Phi(x)\n",
        "  #Vector Phi(x) = (-0.5 . (x-Mu) . BigSigmaInverse . (x-Mu))\n",
        "   #              e\n",
        "    # math.exp is exponential function e^(x) where x is the argument of the function\n",
        "    phi_x = math.exp(-0.5*GetScalar(DataRow,MuRow,BigSigInv))\n",
        "    return phi_x\n",
        "\n",
        "def GetPhiMatrix(Data, MuMatrix, BigSigma, TrainingPercent = 80):\n",
        "    #Phi Matrix Shape:  No. of basis fns x Dataset_height i.e. 10 x 67k\n",
        "    # 10 Basis function matrix applied on 41 input feautres\n",
        "    '''\n",
        "    #Phi(x(1)(1/10)) Means Basis function of 1/10 th part of input feature 1 (We divided the input features with kmeans below into 10 clusters)\n",
        "    \n",
        "    Vector Phi(x) = (-0.5 . (x-Mu) . BigSigmaInverse . (x-Mu))\n",
        "                   e\n",
        "                   \n",
        "                   \n",
        "                        Phi1                   Phi2                     Phi3                    .  .  .     Phi10    # no of basis functions i.e. 10\n",
        "  PhiMatrix=   x(1)   Phi(x(1)(1/10))      Phi(x(1)(2/10))         Phi(x(1)(3/10))     .  .  .        Phi(x(1)(10/10))\n",
        "  \n",
        "               x(2)   Phi(x(2)(1/10))      Phi(x(2)(2/10))         Phi(x(2)(3/10))     .  .  .        Phi(x(2)(10/10))\n",
        "    \n",
        "               x(3)   Phi(x(3)(1/10))      Phi(x(3)(2/10))         Phi(x(3)(3/10))     .  .  .        Phi(x(3)(10/10))\n",
        "                .\n",
        "                .\n",
        "                .\n",
        "              x(67k)  Phi(x(67k)(1/10))    Phi(x(67k)(2/10))       Phi(x(67k)(3/10))     .  .  .      Phi(x(67k)(1/10))\n",
        "    '''        \n",
        "    DataT = np.transpose(Data)\n",
        "    TrainingLen = math.ceil(len(DataT)*(TrainingPercent*0.01))         \n",
        "    PHI = np.zeros((int(TrainingLen),len(MuMatrix))) \n",
        "    \n",
        "    # Calculating inverse of BigSigma matrix for the formula of phi\n",
        "    BigSigInv = np.linalg.inv(BigSigma)\n",
        "    for  C in range(0,len(MuMatrix)):\n",
        "        for R in range(0,int(TrainingLen)):\n",
        "            #Calculating Phi of each x1\n",
        "            PHI[R][C] = GetRadialBasisOut(DataT[R], MuMatrix[C], BigSigInv)\n",
        "    #print (\"PHI Generated..\")\n",
        "    return PHI\n",
        "\n",
        "def GetWeightsClosedForm(PHI, T, Lambda):\n",
        "   \n",
        "    #Closed form of weights: PhiInv(x) . TargetValues\n",
        "#                           [ Inverse(TransposePhi(x). Phi(x) + Lambda). TransposePhi(x) ] . Target values  # Moore Penrose Pseudo inverse\n",
        "    \n",
        "    #Lambda_I is bias\n",
        "    # Vectorizing Lambda as identity matrix of shape of phi matrix.  \n",
        "    Lambda_I = np.identity(len(PHI[0]))\n",
        "    for i in range(0,len(PHI[0])):\n",
        "        Lambda_I[i][i] = Lambda\n",
        "    PHI_T       = np.transpose(PHI) #TransposePhi(x)\n",
        "    PHI_SQR     = np.dot(PHI_T,PHI) # TransposePhi(x).Phi(x)\n",
        "    PHI_SQR_LI  = np.add(Lambda_I,PHI_SQR) # TransposePhi(x). Phi(x) + Lambda\n",
        "    PHI_SQR_INV = np.linalg.inv(PHI_SQR_LI) # Inverse(TransposePhi(x). Phi(x) + Lambda). TransposePhi(x)\n",
        "    INTER       = np.dot(PHI_SQR_INV, PHI_T) #  [ Inverse(TransposePhi(x). Phi(x) + Lambda). TransposePhi(x) ]\n",
        "    W           = np.dot(INTER, T) # [ Inverse(TransposePhi(x). Phi(x) + Lambda). TransposePhi(x) ] . Target values \n",
        "    ##print (\"Training Weights Generated..\")\n",
        "    return W\n",
        "\n",
        "#Generating Phi Matrix. Overview/Main Function\n",
        "def GetPhiMatrix(Data, MuMatrix, BigSigma, TrainingPercent = 80):\n",
        "    DataT = np.transpose(Data)\n",
        "    TrainingLen = math.ceil(len(DataT)*(TrainingPercent*0.01))         \n",
        "    PHI = np.zeros((int(TrainingLen),len(MuMatrix))) #len(muMatrix) is no. of basis functions\n",
        "    BigSigInv = np.linalg.inv(BigSigma)\n",
        "    for  C in range(0,len(MuMatrix)):\n",
        "        for R in range(0,int(TrainingLen)):\n",
        "            PHI[R][C] = GetRadialBasisOut(DataT[R], MuMatrix[C], BigSigInv)\n",
        "    #print (\"PHI Generated..\")\n",
        "    return PHI\n",
        "\n",
        "# GetValTest Gives output Values for Validation Test Data. Val_Phi is the basis funcion matrix of Validation input features. and W is the weights \n",
        "def GetValTest(VAL_PHI,W):\n",
        "    Y = np.dot(W,np.transpose(VAL_PHI))\n",
        "    ##print (\"Test Out Generated..\")\n",
        "    return Y\n",
        "\n",
        "\n",
        "# VAL_TEST_OUT are Output values of Validation Test data. \n",
        "# ValDataAct are the Target Values of Validation Test Data\n",
        "def GetErms(VAL_TEST_OUT,ValDataAct):\n",
        "    sum = 0.0\n",
        "    t=0\n",
        "    accuracy = 0.0\n",
        "    counter = 0\n",
        "    val = 0.0\n",
        "    error=[]\n",
        "    # sum of sqaure mean error\n",
        "    # E= Summation( Target Values - Output Values )^2\n",
        "    for i in range (0,len(VAL_TEST_OUT)):\n",
        "        error.append(math.pow((ValDataAct[i] - VAL_TEST_OUT[i]),2))\n",
        "        sum = sum + error[i]\n",
        "        \n",
        "        if(int(np.around(VAL_TEST_OUT[i], 0)) == ValDataAct[i]): # np.around rounds to the nearest no. of decimals\n",
        "            counter+=1 # Counting no. of correctly predicted values in validation test data \n",
        "    Mean=sum/len(VAL_TEST_OUT)\n",
        "    Erms=pow(Mean,0.5)\n",
        "    accuracy = (float((counter*100))/float(len(VAL_TEST_OUT))) # Accuracy of correctly predicted values by total no of prediction.\n",
        "    ##print (\"Validation E_RMS : \" + str(math.sqrt(sum/len(VAL_TEST_OUT))))\n",
        "    return(Erms)\n",
        "    #return (str(accuracy) + ',' +  str(math.sqrt(sum/len(VAL_TEST_OUT))))"
      ],
      "execution_count": 0,
      "outputs": []
    },
    {
      "metadata": {
        "id": "PSYYYcSQzGBQ",
        "colab_type": "text"
      },
      "cell_type": "markdown",
      "source": [
        "## Fetch and Prepare Dataset"
      ]
    },
    {
      "metadata": {
        "id": "b2zBXcejzGBS",
        "colab_type": "code",
        "colab": {}
      },
      "cell_type": "code",
      "source": [
        "RawTarget = GetTargetVector('Querylevelnorm_t.csv') #Reads Querylevelnorm_t.csv (Target values) as list. \n",
        "RawData   = GenerateRawData('Querylevelnorm_X.csv',IsSynthetic) #Reads Querylevelnorm_X.csv (Input feature values) as list. \n"
      ],
      "execution_count": 0,
      "outputs": []
    },
    {
      "metadata": {
        "id": "u-fBm9cHzGBZ",
        "colab_type": "text"
      },
      "cell_type": "markdown",
      "source": [
        "## Prepare Training, Validation and Test Data"
      ]
    },
    {
      "metadata": {
        "id": "1O9Q_XrMzGBa",
        "colab_type": "code",
        "colab": {
          "base_uri": "https://localhost:8080/",
          "height": 119
        },
        "outputId": "1b8d2e72-6455-4572-aecd-3433b0467f41"
      },
      "cell_type": "code",
      "source": [
        "#Training data is strictly used for training the model\n",
        "TrainingTarget = np.array(GenerateTrainingTarget(RawTarget,TrainingPercent)) #Training Target data #GenerateTrainingTarget is function to subset RawTarget data according to TrainingPercent\n",
        "TrainingData   = GenerateTrainingDataMatrix(RawData,TrainingPercent) #Training Input features\n",
        "print(TrainingTarget.shape)\n",
        "print(TrainingData.shape)\n",
        "\n",
        "#Validation is held out from the training dataset itself for unbiased evaluation of model trained on training data.\n",
        "ValDataAct = np.array(GenerateValTargetVector(RawTarget,ValidationPercent, (len(TrainingTarget)))) #Validation Target data\n",
        "ValData    = GenerateValData(RawData,ValidationPercent, (len(TrainingTarget))) # Validation Input features\n",
        "print(ValDataAct.shape)\n",
        "print(ValData.shape)\n",
        "\n",
        "#Test data is new data for evaluation of final model\n",
        "TestDataAct = np.array(GenerateValTargetVector(RawTarget,TestPercent, (len(TrainingTarget)+len(ValDataAct)))) #Testing Target values\n",
        "TestData = GenerateValData(RawData,TestPercent, (len(TrainingTarget)+len(ValDataAct))) #Testing input features\n",
        "print(TestDataAct.shape)\n",
        "print(TestData.shape)"
      ],
      "execution_count": 7,
      "outputs": [
        {
          "output_type": "stream",
          "text": [
            "(55699,)\n",
            "(41, 55699)\n",
            "(6962,)\n",
            "(41, 6962)\n",
            "(6961,)\n",
            "(41, 6961)\n"
          ],
          "name": "stdout"
        }
      ]
    },
    {
      "metadata": {
        "id": "2wfNWd4yzGB6",
        "colab_type": "text"
      },
      "cell_type": "markdown",
      "source": [
        "## Closed Form Solution [Finding Weights using Moore- Penrose pseudo- Inverse Matrix]"
      ]
    },
    {
      "metadata": {
        "id": "sNiTSV5LzGCE",
        "colab_type": "text"
      },
      "cell_type": "markdown",
      "source": [
        "## Finding Erms on training, validation and test set "
      ]
    },
    {
      "metadata": {
        "id": "2tr41DqHXa9u",
        "colab_type": "code",
        "colab": {}
      },
      "cell_type": "code",
      "source": [
        "import numpy as np\n",
        "import time\n",
        "print ('UBITname      = vineetsu')\n",
        "print ('Person Number = 50291159')\n",
        "print ('----------------------------------------------------')\n",
        "print (\"------------------LeToR Data------------------------\")\n",
        "print ('----------------------------------------------------')\n",
        "print (\"-------Closed Form with Radial Basis Function-------\")\n",
        "print ('----------------------------------------------------')\n",
        "start=time.time()\n",
        "TestAcc=np.zeros((len(Lambda_array)+1,len(numberBasisFn)+1))\n",
        "d,e=0,0\n",
        "for C_Lambda in Lambda_array:\n",
        "  e=0\n",
        "  for M in numberBasisFn:\n",
        "    ErmsArr = [] #ERMS error for each x(i) in validation \n",
        "    AccuracyArr = [] \n",
        "\n",
        "    #Dividing the data of 69K into 10 clusters\n",
        "    kmeans = KMeans(n_clusters=M, random_state=0).fit(np.transpose(TrainingData))\n",
        "    Mu = kmeans.cluster_centers_ #Creating centres for each of FEATURES . Feature one would have 10 clusters of 69k data values divided into it and so on.\n",
        "\n",
        "    BigSigma     = GenerateBigSigma(RawData, Mu, TrainingPercent,IsSynthetic) # generating variance for each input feature\n",
        "    TRAINING_PHI = GetPhiMatrix(RawData, Mu, BigSigma, TrainingPercent)\n",
        "\n",
        "    # Closed form of weights: PhiInv(x) . TargetValues\n",
        "    #                        [ Inverse(TransposePhi(x). Phi(x)+ Lambda). TransposePhi(x) ] . Target values  # Moore Penrose Pseudo inverse\n",
        "    # Shape of Phi(x) : 58k x 10\n",
        "    # Shape of TransposePhi(x) : (10 x 58k)\n",
        "    # Shape of Lambda(vector) : 10 x 10\n",
        "    # Shape of Inverse(TransposePhi(x). Phi(x)) : 10 x 10\n",
        "    # Shape of Inverse(TransposePhi(x). Phi(x)). TransposePhi(x) : (10 x 10) . (10 x 58k)\n",
        "    #                                                              (10 x 58 k)                      \n",
        "    # Shape of Target Values:(58k x 10)\n",
        "    # Therefore  Shape of Weights : 10 x 10\n",
        "    W            = GetWeightsClosedForm(TRAINING_PHI,TrainingTarget,(C_Lambda)) \n",
        "    TEST_PHI     = GetPhiMatrix(TestData, Mu, BigSigma, 100) \n",
        "    VAL_PHI      = GetPhiMatrix(ValData, Mu, BigSigma, 100)\n",
        "\n",
        "    #TR_TEST_OUT, VAL_TEST_OUT, TEST_OUT  are the training, validation and test outputs generated for their respective Input features.\n",
        "    # Generating output = W x Input features\n",
        "    #                     W x Phi(x)    W is generated while Training data.\n",
        "    TR_TEST_OUT  = GetValTest(TRAINING_PHI,W)\n",
        "    VAL_TEST_OUT = GetValTest(VAL_PHI,W)\n",
        "    TEST_OUT     = GetValTest(TEST_PHI,W)\n",
        "\n",
        "    #Root mean square method of accuracy used (Erms) \n",
        "    #E= Summation( Target Values - Output Values )^2\n",
        "    TrainingAccuracy   = str(GetErms(TR_TEST_OUT,TrainingTarget)) # Training Accuracy\n",
        "    ValidationAccuracy = str(GetErms(VAL_TEST_OUT,ValDataAct)) # Validation Accuracy\n",
        "    TestAccuracy       = (GetErms(TEST_OUT,TestDataAct)) #Testing Accuracy\n",
        "    print(d,e,TestAccuracy)\n",
        "    TestAcc[d,e]=TestAccuracy\n",
        "    e=e+1\n",
        "  d=d+1\n",
        "\n",
        "import matplotlib.pyplot as plt\n",
        "plt.plot(TestAcc[0])\n",
        "plt.ylabel('Hell')\n",
        "plt.show()\n",
        "end=time.time()\n",
        "time_taken=end-start"
      ],
      "execution_count": 0,
      "outputs": []
    },
    {
      "metadata": {
        "id": "mzqjG_WAfZ1U",
        "colab_type": "code",
        "colab": {}
      },
      "cell_type": "code",
      "source": [
        "#plt.ylim(0.6,0.66)\n",
        "plt.plot(TestAcc[0:10,0])\n",
        "plt.plot(TestAcc[0:10,1])\n",
        "plt.plot(TestAcc[0:10,2])\n",
        "plt.plot(TestAcc[0:10,3])\n",
        "plt.plot(TestAcc[0:10,4])\n",
        "plt.legend([1,5,10,25,50], loc='upper right')\n",
        "\n",
        "plt.show()"
      ],
      "execution_count": 0,
      "outputs": []
    },
    {
      "metadata": {
        "id": "WWN09wsKzGCS",
        "colab_type": "text"
      },
      "cell_type": "markdown",
      "source": [
        "## Gradient Descent solution for Linear Regression"
      ]
    },
    {
      "metadata": {
        "id": "-5EJZna-zGCW",
        "colab_type": "code",
        "colab": {
          "base_uri": "https://localhost:8080/",
          "height": 384
        },
        "outputId": "ed28263e-1bb3-4621-8cea-b68b41527fcd"
      },
      "cell_type": "code",
      "source": [
        "import string\n",
        "#Stochastic Gradient Decent.\n",
        "# Creating parts of the dataset and training separartely.\n",
        "# Initialize Random Weights\n",
        "\n",
        "La_array           = [0.1,10] \n",
        "learningRate_array = [0.01,10] #learning rate is Size of Steps taken to reach to the minimum of error. Bigger the step, more chances of missing the minimum.\n",
        "Erms_val=np.zeros((len(learningRate_array),len(La_array)))\n",
        "Erms_test=np.zeros((len(learningRate_array),len(La_array)))\n",
        "k,j=0,0\n",
        "\n",
        "for learningRate in learningRate_array:\n",
        "  j=0\n",
        "  for La in La_array:\n",
        "    \n",
        "    W_Now        = np.dot(220, W) # why 220? \n",
        "    L_Erms_Val   = [] \n",
        "    L_Erms_TR    = []\n",
        "    L_Erms_Test  = []\n",
        "    W_Mat        = []\n",
        "    # Why 400? So its easy to iterate the dataset to observe visible results. Grad descent takes a lot of time.\n",
        "    for i in range(0,400):\n",
        "\n",
        "        #print ('---------Iteration: ' + str(i) + '--------------')\n",
        "        #Delta_W = Learningrate.((T-W.Phi(x)+La.W))\n",
        "        #Wnew= Wold + Delta_W\n",
        "        #Where La.W is the regularization term Where Ls determines relative importance of the regularization ter,\n",
        "        #Subtracting Output value from Target value , where output value is product of weights and phi(X)\n",
        "        Delta_E_D     = -np.dot((TrainingTarget[i] - np.dot(np.transpose(W_Now),TRAINING_PHI[i])),TRAINING_PHI[i])\n",
        "        La_Delta_E_W  = np.dot(La,W_Now)\n",
        "        Delta_E       = np.add(Delta_E_D,La_Delta_E_W)    \n",
        "        Delta_W       = -np.dot(learningRate,Delta_E)\n",
        "        W_T_Next      = W_Now + Delta_W\n",
        "        W_Now         = W_T_Next\n",
        "\n",
        "        #-----------------TrainingData Accuracy---------------------#\n",
        "        # Calculating accuracy for training data\n",
        "        TR_TEST_OUT   = GetValTest(TRAINING_PHI,W_T_Next) \n",
        "        Erms_TR       = GetErms(TR_TEST_OUT,TrainingTarget)\n",
        "        #L_Erms_TR.append(float(Erms_TR.split(',')[1]))\n",
        "\n",
        "        #-----------------ValidationData Accuracy---------------------#\n",
        "        # Calculating accuracy for validation data\n",
        "        VAL_TEST_OUT  = GetValTest(VAL_PHI,W_T_Next) \n",
        "        Erms_Val      = GetErms(VAL_TEST_OUT,ValDataAct)\n",
        "        #L_Erms_Val.append(float(Erms_Val.split(',')[1]))\n",
        "\n",
        "        #-----------------TestingData Accuracy---------------------#\n",
        "        # Calculating accuracy for testing data\n",
        "        TEST_OUT      = GetValTest(TEST_PHI,W_T_Next) \n",
        "        Erms_Test = GetErms(TEST_OUT,TestDataAct)\n",
        "        #L_Erms_Test.append(float(Erms_Test.split(',')[1]))\n",
        "    print(j)\n",
        "    Erms_val[k,j]=Erms_Val\n",
        "    Erms_test[k,j]=Erms_Test\n",
        "    j=j+1\n",
        "  k=k+1"
      ],
      "execution_count": 27,
      "outputs": [
        {
          "output_type": "stream",
          "text": [
            "0\n",
            "1\n"
          ],
          "name": "stdout"
        },
        {
          "output_type": "error",
          "ename": "OverflowError",
          "evalue": "ignored",
          "traceback": [
            "\u001b[0;31m---------------------------------------------------------------------------\u001b[0m",
            "\u001b[0;31mOverflowError\u001b[0m                             Traceback (most recent call last)",
            "\u001b[0;32m<ipython-input-27-8f86f4c7d0be>\u001b[0m in \u001b[0;36m<module>\u001b[0;34m()\u001b[0m\n\u001b[1;32m     37\u001b[0m         \u001b[0;31m# Calculating accuracy for training data\u001b[0m\u001b[0;34m\u001b[0m\u001b[0;34m\u001b[0m\u001b[0m\n\u001b[1;32m     38\u001b[0m         \u001b[0mTR_TEST_OUT\u001b[0m   \u001b[0;34m=\u001b[0m \u001b[0mGetValTest\u001b[0m\u001b[0;34m(\u001b[0m\u001b[0mTRAINING_PHI\u001b[0m\u001b[0;34m,\u001b[0m\u001b[0mW_T_Next\u001b[0m\u001b[0;34m)\u001b[0m\u001b[0;34m\u001b[0m\u001b[0m\n\u001b[0;32m---> 39\u001b[0;31m         \u001b[0mErms_TR\u001b[0m       \u001b[0;34m=\u001b[0m \u001b[0mGetErms\u001b[0m\u001b[0;34m(\u001b[0m\u001b[0mTR_TEST_OUT\u001b[0m\u001b[0;34m,\u001b[0m\u001b[0mTrainingTarget\u001b[0m\u001b[0;34m)\u001b[0m\u001b[0;34m\u001b[0m\u001b[0m\n\u001b[0m\u001b[1;32m     40\u001b[0m         \u001b[0;31m#L_Erms_TR.append(float(Erms_TR.split(',')[1]))\u001b[0m\u001b[0;34m\u001b[0m\u001b[0;34m\u001b[0m\u001b[0m\n\u001b[1;32m     41\u001b[0m \u001b[0;34m\u001b[0m\u001b[0m\n",
            "\u001b[0;32m<ipython-input-25-75a84f816232>\u001b[0m in \u001b[0;36mGetErms\u001b[0;34m(VAL_TEST_OUT, ValDataAct)\u001b[0m\n\u001b[1;32m    202\u001b[0m     \u001b[0;31m# E= Summation( Target Values - Output Values )^2\u001b[0m\u001b[0;34m\u001b[0m\u001b[0;34m\u001b[0m\u001b[0m\n\u001b[1;32m    203\u001b[0m     \u001b[0;32mfor\u001b[0m \u001b[0mi\u001b[0m \u001b[0;32min\u001b[0m \u001b[0mrange\u001b[0m \u001b[0;34m(\u001b[0m\u001b[0;36m0\u001b[0m\u001b[0;34m,\u001b[0m\u001b[0mlen\u001b[0m\u001b[0;34m(\u001b[0m\u001b[0mVAL_TEST_OUT\u001b[0m\u001b[0;34m)\u001b[0m\u001b[0;34m)\u001b[0m\u001b[0;34m:\u001b[0m\u001b[0;34m\u001b[0m\u001b[0m\n\u001b[0;32m--> 204\u001b[0;31m         \u001b[0merror\u001b[0m\u001b[0;34m.\u001b[0m\u001b[0mappend\u001b[0m\u001b[0;34m(\u001b[0m\u001b[0mmath\u001b[0m\u001b[0;34m.\u001b[0m\u001b[0mpow\u001b[0m\u001b[0;34m(\u001b[0m\u001b[0;34m(\u001b[0m\u001b[0mValDataAct\u001b[0m\u001b[0;34m[\u001b[0m\u001b[0mi\u001b[0m\u001b[0;34m]\u001b[0m \u001b[0;34m-\u001b[0m \u001b[0mVAL_TEST_OUT\u001b[0m\u001b[0;34m[\u001b[0m\u001b[0mi\u001b[0m\u001b[0;34m]\u001b[0m\u001b[0;34m)\u001b[0m\u001b[0;34m,\u001b[0m\u001b[0;36m2\u001b[0m\u001b[0;34m)\u001b[0m\u001b[0;34m)\u001b[0m\u001b[0;34m\u001b[0m\u001b[0m\n\u001b[0m\u001b[1;32m    205\u001b[0m         \u001b[0msum\u001b[0m \u001b[0;34m=\u001b[0m \u001b[0msum\u001b[0m \u001b[0;34m+\u001b[0m \u001b[0merror\u001b[0m\u001b[0;34m[\u001b[0m\u001b[0mi\u001b[0m\u001b[0;34m]\u001b[0m\u001b[0;34m\u001b[0m\u001b[0m\n\u001b[1;32m    206\u001b[0m \u001b[0;34m\u001b[0m\u001b[0m\n",
            "\u001b[0;31mOverflowError\u001b[0m: math range error"
          ]
        }
      ]
    },
    {
      "metadata": {
        "id": "ZsoyHNWLC3SI",
        "colab_type": "code",
        "colab": {
          "base_uri": "https://localhost:8080/",
          "height": 51
        },
        "outputId": "db6b49f3-436b-4944-dba3-238f72f034cb"
      },
      "cell_type": "code",
      "source": [
        "Erms_val"
      ],
      "execution_count": 28,
      "outputs": [
        {
          "output_type": "execute_result",
          "data": {
            "text/plain": [
              "array([[0.61833116, 0.62824414],\n",
              "       [0.        , 0.        ]])"
            ]
          },
          "metadata": {
            "tags": []
          },
          "execution_count": 28
        }
      ]
    },
    {
      "metadata": {
        "id": "qitM4NWVzGCZ",
        "colab_type": "code",
        "colab": {
          "base_uri": "https://localhost:8080/",
          "height": 136
        },
        "outputId": "082ccf24-cacb-438f-c230-fd14b06c3a08"
      },
      "cell_type": "code",
      "source": [
        "print ('----------Gradient Descent Solution--------------------')\n",
        "print (\"M = 15 \\nLambda  = 0.0001\\neta=0.01\")\n",
        "print (\"E_rms Training   = \" + str(np.around(min(L_Erms_TR),5)))\n",
        "print (\"E_rms Validation = \" + str(np.around(min(L_Erms_Val),5)))\n",
        "print (\"E_rms Testing    = \" + str(np.around(min(L_Erms_Test),5)))"
      ],
      "execution_count": 13,
      "outputs": [
        {
          "output_type": "stream",
          "text": [
            "----------Gradient Descent Solution--------------------\n",
            "M = 15 \n",
            "Lambda  = 0.0001\n",
            "eta=0.01\n",
            "E_rms Training   = 0.54964\n",
            "E_rms Validation = 0.53846\n",
            "E_rms Testing    = 0.62372\n"
          ],
          "name": "stdout"
        }
      ]
    },
    {
      "metadata": {
        "id": "r6FPb-LIzGCc",
        "colab_type": "code",
        "colab": {}
      },
      "cell_type": "code",
      "source": [
        ""
      ],
      "execution_count": 0,
      "outputs": []
    }
  ]
}